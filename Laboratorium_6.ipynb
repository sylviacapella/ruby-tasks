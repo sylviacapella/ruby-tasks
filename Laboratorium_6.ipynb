{
 "metadata": {
  "language": "ruby",
  "name": "",
  "signature": "sha256:5e672ea94799f84dc91bdcbd3c3854f20bb84a8c1120e1d9f33a683faa0343e6"
 },
 "nbformat": 3,
 "nbformat_minor": 0,
 "worksheets": [
  {
   "cells": [
    {
     "cell_type": "heading",
     "level": 1,
     "metadata": {},
     "source": [
      "Metody iteracyjne"
     ]
    },
    {
     "cell_type": "markdown",
     "metadata": {},
     "source": [
      "Metody iteracyjne pozwalaj\u0105 wykonywa\u0107 operacje na elementach kontener\u00f3w. S\u0105 one odpowiednikami p\u0119tli w innych j\u0119zykach programowania. Pozwalaj\u0105 jedak bardziej bezpo\u015brednio wyrazi\u0107 jaka jest intencja tw\u00f3rcy algorytmu.\n",
      "\n",
      "Najcz\u0119\u015bciej u\u017cywan\u0105\u00a0metod\u0105 iteracyjn\u0105 jest `each`, kt\u00f3ra wywo\u0142uje blok kodu dla ka\u017cdego elementu tablicy\n",
      "```ruby\n",
      "[1,2,3,4].each do |element|\n",
      "  puts element ** 2\n",
      "end\n",
      "```"
     ]
    },
    {
     "cell_type": "code",
     "collapsed": false,
     "input": [],
     "language": "python",
     "metadata": {},
     "outputs": []
    },
    {
     "cell_type": "markdown",
     "metadata": {},
     "source": [
      "Ruby definiuje jednak znacznie wi\u0119cej przydatnych metod tego rodzaju. Cz\u0119sto u\u017cywan\u0105 jest `select`, kt\u00f3ra wybiera z tablicy tylko \n",
      "te elementy, dla kt\u00f3rych blok kodu zwr\u00f3ci\u0142 warto\u015b\u0107 `true`\n",
      "```ruby\n",
      "[1,2,3,4,5,6].select{|e| e % 2 == 0 }\n",
      "[\"Ala\", \"Anna\", \"Agata\", \"Barbara\"].select{|imie| imie =~ /^A/ }\n",
      "```"
     ]
    },
    {
     "cell_type": "code",
     "collapsed": false,
     "input": [],
     "language": "python",
     "metadata": {},
     "outputs": []
    },
    {
     "cell_type": "markdown",
     "metadata": {},
     "source": [
      "Metoda ta ma komplementarn\u0105\u00a0wobec niej metod\u0119 `reject`\n",
      "```ruby\n",
      "[1,2,3,4,5,6].reject{|e| e % 2 == 0 }\n",
      "[\"Ala\", \"Anna\", \"Agata\", \"Barbara\"].reject{|imie| imie =~ /^A/ }\n",
      "```"
     ]
    },
    {
     "cell_type": "code",
     "collapsed": false,
     "input": [],
     "language": "python",
     "metadata": {},
     "outputs": []
    },
    {
     "cell_type": "markdown",
     "metadata": {},
     "source": [
      "Bardzo cz\u0119sto wykorzystywan\u0105 metod\u0105 jest r\u00f3wnie\u017c `map`\n",
      "```ruby\n",
      "[1,2,3,4,5].map{|e| e * 2 }\n",
      "[\"Ala\", \"Anna\", \"Agata\"].map{|e| e.upcase }\n",
      "```"
     ]
    },
    {
     "cell_type": "code",
     "collapsed": false,
     "input": [],
     "language": "python",
     "metadata": {},
     "outputs": []
    },
    {
     "cell_type": "markdown",
     "metadata": {},
     "source": [
      "Nieco rzadziej wykorzystywan\u0105 metod\u0105 jest `inject`, kt\u00f3ra poza tym, \u017ce przechodzi przez wszystkie elementy, przekazuje do bloku\n",
      "wynik eweluacji wcze\u015bniejszego wyra\u017cenia. Pozwala to w bardzo prosty spos\u00f3b np. oblicy\u0107 sum\u0119 element\u00f3w tablic\n",
      "```ruby\n",
      "[1,2,3,4].inject(0){|suma,element| suma + element }\n",
      "```"
     ]
    },
    {
     "cell_type": "code",
     "collapsed": false,
     "input": [],
     "language": "python",
     "metadata": {},
     "outputs": []
    },
    {
     "cell_type": "markdown",
     "metadata": {},
     "source": [
      "Oczywi\u015bcie metoda ta nie dzia\u0142a wy\u0142\u0105cznie na liczbach. Mo\u017cna np. skonkatenowa\u0107 jaki\u015b napis\n",
      "```ruby\n",
      "[\"Ala\", \"Anna\", \"Agata\"].inject(\"\"){|wynik,imie| wynik + \" #{imie.upcase}\" }\n",
      "```"
     ]
    },
    {
     "cell_type": "code",
     "collapsed": false,
     "input": [],
     "language": "python",
     "metadata": {},
     "outputs": [],
     "prompt_number": 16
    },
    {
     "cell_type": "markdown",
     "metadata": {},
     "source": [
      "Na koniec warto wspomnie\u0107 o dw\u00f3ch metodach s\u0142u\u017c\u0105cych do sortowania: `sort` oraz `sort_by`. Wywo\u0142anie tej pierwszej \n",
      "bez bloku kodu spowoduje posortowanie element\u00f3w w naturany spos\u00f3b\n",
      "```ruby\n",
      "[3,1,7,6,2].sort\n",
      "```"
     ]
    },
    {
     "cell_type": "code",
     "collapsed": false,
     "input": [],
     "language": "python",
     "metadata": {},
     "outputs": []
    },
    {
     "cell_type": "markdown",
     "metadata": {},
     "source": [
      "Mo\u017cemy jednak zdefiniowa\u0107 sw\u00f3j w\u0142asny spos\u00f3b sortowania. Konieczne jest wtedy przekazanie bloku kodu, kt\u00f3ry akceptuje dwa\n",
      "argumentu podlegaj\u0105ce por\u00f3wnaniu, np.\n",
      "```ruby\n",
      "[\"A\",\"ca\u0142ego\",\"ma\u0142e\",\"Ala\",\"Be\"].sort{|a,b| a.size <=> b.size }\n",
      "```"
     ]
    },
    {
     "cell_type": "code",
     "collapsed": false,
     "input": [],
     "language": "python",
     "metadata": {},
     "outputs": [],
     "prompt_number": 2
    },
    {
     "cell_type": "markdown",
     "metadata": {},
     "source": [
      "Warto por\u00f3wna\u0107 wynik tej metody z metod\u0105 `sort` bez bloku:\n",
      "```ruby\n",
      "[\"A\",\"ca\u0142ego\",\"ma\u0142e\",\"Ala\",\"Be\"].sort\n",
      "```"
     ]
    },
    {
     "cell_type": "code",
     "collapsed": false,
     "input": [],
     "language": "python",
     "metadata": {},
     "outputs": []
    },
    {
     "cell_type": "markdown",
     "metadata": {},
     "source": [
      "Metoda `sort_by` pozwala natomiast posortowa\u0107 elementy wzgl\u0119dem wybranej w\u0142asno\u015bci. Sortowanie wzgl\u0119dem d\u0142ugo\u015bci \u0142a\u0144cuch\u00f3w mo\u017cna\n",
      "zrealizowa\u0107 nast\u0119puj\u0105co:\n",
      "```ruby\n",
      "[\"A\",\"ca\u0142ego\",\"ma\u0142e\",\"Ala\",\"Be\"].sort_by{|a| a.size }\n",
      "```"
     ]
    },
    {
     "cell_type": "code",
     "collapsed": false,
     "input": [],
     "language": "python",
     "metadata": {},
     "outputs": []
    },
    {
     "cell_type": "heading",
     "level": 3,
     "metadata": {},
     "source": [
      "Zadanie 1"
     ]
    },
    {
     "cell_type": "markdown",
     "metadata": {},
     "source": [
      "Napisz program, kt\u00f3ry oblicza sum\u0119 cyfr zadanej liczby. "
     ]
    },
    {
     "cell_type": "code",
     "collapsed": false,
     "input": [
      "liczba = 1456323465\n"
     ],
     "language": "python",
     "metadata": {},
     "outputs": [],
     "prompt_number": 18
    },
    {
     "cell_type": "heading",
     "level": 3,
     "metadata": {},
     "source": [
      "Zadanie 2*"
     ]
    },
    {
     "cell_type": "markdown",
     "metadata": {},
     "source": [
      "Napisz program, kt\u00f3ry w\u015br\u00f3d liczb od 0 do 100 znajduje wszystkie liczby kt\u00f3re s\u0105 podzielne przez 2, ale nie s\u0105 podzielne przez 4 i kt\u00f3rych suma cyfr jest podzielna przez 7."
     ]
    },
    {
     "cell_type": "code",
     "collapsed": false,
     "input": [],
     "language": "python",
     "metadata": {},
     "outputs": [],
     "prompt_number": 15
    },
    {
     "cell_type": "heading",
     "level": 3,
     "metadata": {},
     "source": [
      "Zadanie 3*"
     ]
    },
    {
     "cell_type": "markdown",
     "metadata": {},
     "source": [
      "Za\u0142\u00f3\u017cmy, \u017ce w turnieju szachowym jest 6 zawodnik\u00f3w: Anna, Beata, Andrzej, Wojtek, Jan i Klaudia. Napisz kod, kt\u00f3ry znajdzie wszystkie mo\u017cliwe mecze rozgrywane przez zawodnik\u00f3w. Mecze rozgrywane pomi\u0119dzy tymi samymi zawodnikami nie mog\u0105 si\u0119 powtarza\u0107 (kolejno\u015b\u0107 zawodnik\u00f3w nie ma znaczenia)."
     ]
    },
    {
     "cell_type": "code",
     "collapsed": false,
     "input": [],
     "language": "python",
     "metadata": {},
     "outputs": [],
     "prompt_number": 6
    }
   ],
   "metadata": {}
  }
 ]
}